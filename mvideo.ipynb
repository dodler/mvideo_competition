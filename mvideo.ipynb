{
 "cells": [
  {
   "cell_type": "code",
   "execution_count": 2,
   "metadata": {},
   "outputs": [
    {
     "name": "stderr",
     "output_type": "stream",
     "text": [
      "Using TensorFlow backend.\n",
      "/usr/local/lib/python3.6/site-packages/sklearn/cross_validation.py:44: DeprecationWarning: This module was deprecated in version 0.18 in favor of the model_selection module into which all the refactored classes and functions are moved. Also note that the interface of the new CV iterators are different from that of this module. This module will be removed in 0.20.\n",
      "  \"This module will be removed in 0.20.\", DeprecationWarning)\n"
     ]
    }
   ],
   "source": [
    "import pandas as pd\n",
    "import numpy as np\n",
    "\n",
    "from sklearn.datasets import fetch_20newsgroups\n",
    "from sklearn.feature_extraction.text import CountVectorizer\n",
    "from sklearn.feature_extraction.text import TfidfTransformer\n",
    "from sklearn.naive_bayes import MultinomialNB\n",
    "from sklearn.pipeline import Pipeline\n",
    "from sklearn.linear_model import SGDClassifier\n",
    "from sklearn import metrics\n",
    "from sklearn.externals import joblib\n",
    "\n",
    "# fix random seed for reproducibility\n",
    "np.random.seed(7)\n",
    "\n",
    "from keras.layers import Input, Dense, Embedding, merge, Convolution2D, MaxPooling2D, Dropout\n",
    "from sklearn.cross_validation import train_test_split\n",
    "from keras.layers.core import Reshape, Flatten\n",
    "from keras.callbacks import ModelCheckpoint\n",
    "from keras.optimizers import Adam\n",
    "from keras.models import Model\n",
    "\n",
    "import xgboost as xgb\n",
    "from sklearn.model_selection import train_test_split"
   ]
  },
  {
   "cell_type": "markdown",
   "metadata": {},
   "source": [
    "## Acquiring data"
   ]
  },
  {
   "cell_type": "code",
   "execution_count": 3,
   "metadata": {
    "collapsed": true
   },
   "outputs": [],
   "source": [
    "df = pd.read_csv('X_train.csv', encoding='utf-8')"
   ]
  },
  {
   "cell_type": "markdown",
   "metadata": {},
   "source": [
    "## Splitting data"
   ]
  },
  {
   "cell_type": "code",
   "execution_count": 4,
   "metadata": {
    "collapsed": true
   },
   "outputs": [],
   "source": [
    "train, test = train_test_split(df)"
   ]
  },
  {
   "cell_type": "markdown",
   "metadata": {},
   "source": [
    "## tfidf"
   ]
  },
  {
   "cell_type": "code",
   "execution_count": 5,
   "metadata": {
    "collapsed": true
   },
   "outputs": [],
   "source": [
    "tfidf = TfidfTransformer()"
   ]
  },
  {
   "cell_type": "code",
   "execution_count": 6,
   "metadata": {
    "collapsed": true
   },
   "outputs": [],
   "source": [
    "cv = CountVectorizer(max_features=100)\n",
    "ft = tfidf.fit_transform(cv.fit_transform(train.comment))"
   ]
  },
  {
   "cell_type": "code",
   "execution_count": 7,
   "metadata": {
    "collapsed": true
   },
   "outputs": [],
   "source": [
    "t_ft = tfidf.fit_transform(cv.fit_transform(test.comment))"
   ]
  },
  {
   "cell_type": "code",
   "execution_count": 8,
   "metadata": {
    "collapsed": true
   },
   "outputs": [],
   "source": [
    "X_train = ft.toarray()\n",
    "X_test = t_ft.toarray()\n",
    "y_train = train.reting-1\n",
    "y_test = test.reting-1"
   ]
  },
  {
   "cell_type": "code",
   "execution_count": 9,
   "metadata": {
    "collapsed": true
   },
   "outputs": [],
   "source": [
    "dtrain = xgb.DMatrix(X_train, y_train)\n",
    "dtest = xgb.DMatrix(X_test, y_test)"
   ]
  },
  {
   "cell_type": "code",
   "execution_count": 14,
   "metadata": {
    "scrolled": false
   },
   "outputs": [
    {
     "name": "stdout",
     "output_type": "stream",
     "text": [
      "[0]\ttrain-merror:0.388024\ttest-merror:0.420067\n",
      "[25]\ttrain-merror:0.382635\ttest-merror:0.411855\n",
      "[50]\ttrain-merror:0.374337\ttest-merror:0.411085\n",
      "[75]\ttrain-merror:0.360907\ttest-merror:0.412368\n",
      "[100]\ttrain-merror:0.348075\ttest-merror:0.413395\n",
      "[125]\ttrain-merror:0.335415\ttest-merror:0.413908\n",
      "[150]\ttrain-merror:0.323268\ttest-merror:0.416987\n",
      "[175]\ttrain-merror:0.3142\ttest-merror:0.417501\n",
      "[200]\ttrain-merror:0.30633\ttest-merror:0.418014\n",
      "[225]\ttrain-merror:0.29923\ttest-merror:0.419553\n",
      "[250]\ttrain-merror:0.291531\ttest-merror:0.42212\n",
      "[275]\ttrain-merror:0.283319\ttest-merror:0.42135\n",
      "[300]\ttrain-merror:0.274337\ttest-merror:0.423146\n",
      "[325]\ttrain-merror:0.266553\ttest-merror:0.422889\n",
      "[350]\ttrain-merror:0.260137\ttest-merror:0.424172\n",
      "[375]\ttrain-merror:0.253807\ttest-merror:0.424172\n",
      "[400]\ttrain-merror:0.247648\ttest-merror:0.425199\n",
      "[425]\ttrain-merror:0.241061\ttest-merror:0.425455\n",
      "[450]\ttrain-merror:0.235928\ttest-merror:0.425199\n",
      "[475]\ttrain-merror:0.230111\ttest-merror:0.426739\n",
      "CPU times: user 2min 43s, sys: 6.57 s, total: 2min 50s\n",
      "Wall time: 1min 4s\n"
     ]
    }
   ],
   "source": [
    "%%time\n",
    "param = {'silent':1, 'objective':'multi:softmax' }\n",
    "param['nthread'] = 8\n",
    "param['eval_metric'] = 'merror'\n",
    "param['eta'] = 0.075\n",
    "param['max_depth'] = 5\n",
    "param['silent'] = 1\n",
    "param['num_class'] = 5\n",
    "param['n_estimators'] = 300\n",
    "param['early_stopping_rounds'] = 30\n",
    "param['learning_rates'] = 0.2\n",
    "\n",
    "watchlist = [ (dtrain,'train'), (dtest, 'test') ]\n",
    "\n",
    "bst = xgb.train(param, dtrain, 500, watchlist,verbose_eval=25)"
   ]
  },
  {
   "cell_type": "code",
   "execution_count": null,
   "metadata": {
    "collapsed": true
   },
   "outputs": [],
   "source": []
  }
 ],
 "metadata": {
  "kernelspec": {
   "display_name": "Python 3",
   "language": "python",
   "name": "python3"
  },
  "language_info": {
   "codemirror_mode": {
    "name": "ipython",
    "version": 3
   },
   "file_extension": ".py",
   "mimetype": "text/x-python",
   "name": "python",
   "nbconvert_exporter": "python",
   "pygments_lexer": "ipython3",
   "version": "3.6.1"
  }
 },
 "nbformat": 4,
 "nbformat_minor": 2
}
